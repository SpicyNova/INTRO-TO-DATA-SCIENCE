{
 "cells": [
  {
   "cell_type": "markdown",
   "metadata": {},
   "source": [
    "# <center>CHALLENGE 4.1<center>"
   ]
  },
  {
   "cell_type": "markdown",
   "metadata": {},
   "source": [
    "<p>Team Name: Parasyte\n",
    "<p>Student Names: Abby Ortego, Catherine Nixon\n",
    "<p>Student W#s: W0716476, W0704280"
   ]
  },
  {
   "cell_type": "markdown",
   "metadata": {},
   "source": [
    "## Instructions\n",
    "Use <b>generic</b> coding style unless hard-coded values are really necessary.<br>\n",
    "Your code must be efficient and use self-explanatory naming.<br>\n",
    "Use appropriate Python library methods for each task instead of using loops.<br>\n",
    "Run your entire code and save <b>BEFORE</b> submitting. Then, submit this <b>saved</b> copy."
   ]
  },
  {
   "cell_type": "markdown",
   "metadata": {},
   "source": [
    "## Definitions"
   ]
  },
  {
   "cell_type": "markdown",
   "metadata": {},
   "source": [
    "AGE_12   : Passengers with age in \\[1, 13)<br>\n",
    "AGE_TEEN : Passengers with age in \\[13, 20)<br>\n",
    "AGE_YOUNG: Passengers with age in \\[20, 31)<br>\n",
    "AGE_OTHER: Passengers with age >= 31"
   ]
  },
  {
   "cell_type": "markdown",
   "metadata": {
    "collapsed": true
   },
   "source": [
    "## Imports"
   ]
  },
  {
   "cell_type": "code",
   "execution_count": 1,
   "metadata": {},
   "outputs": [],
   "source": [
    "import pandas as pd\n",
    "import numpy as np"
   ]
  },
  {
   "cell_type": "markdown",
   "metadata": {},
   "source": [
    "## Loading Data"
   ]
  },
  {
   "cell_type": "markdown",
   "metadata": {
    "collapsed": true
   },
   "source": [
    "Load \"titanic.csv\" into the data frame object \"data\"</br>\n",
    "[train.csv](https://github.com/wesm/pydata-book/blob/2nd-edition/datasets/titanic/train.csv)"
   ]
  },
  {
   "cell_type": "code",
   "execution_count": 2,
   "metadata": {},
   "outputs": [
    {
     "data": {
      "text/html": [
       "<div>\n",
       "<style scoped>\n",
       "    .dataframe tbody tr th:only-of-type {\n",
       "        vertical-align: middle;\n",
       "    }\n",
       "\n",
       "    .dataframe tbody tr th {\n",
       "        vertical-align: top;\n",
       "    }\n",
       "\n",
       "    .dataframe thead th {\n",
       "        text-align: right;\n",
       "    }\n",
       "</style>\n",
       "<table border=\"1\" class=\"dataframe\">\n",
       "  <thead>\n",
       "    <tr style=\"text-align: right;\">\n",
       "      <th></th>\n",
       "      <th>PassengerId</th>\n",
       "      <th>Survived</th>\n",
       "      <th>Pclass</th>\n",
       "      <th>Name</th>\n",
       "      <th>Sex</th>\n",
       "      <th>Age</th>\n",
       "      <th>SibSp</th>\n",
       "      <th>Parch</th>\n",
       "      <th>Ticket</th>\n",
       "      <th>Fare</th>\n",
       "      <th>Cabin</th>\n",
       "      <th>Embarked</th>\n",
       "    </tr>\n",
       "  </thead>\n",
       "  <tbody>\n",
       "    <tr>\n",
       "      <th>0</th>\n",
       "      <td>1</td>\n",
       "      <td>0</td>\n",
       "      <td>3</td>\n",
       "      <td>Braund, Mr. Owen Harris</td>\n",
       "      <td>male</td>\n",
       "      <td>22.0</td>\n",
       "      <td>1</td>\n",
       "      <td>0</td>\n",
       "      <td>A/5 21171</td>\n",
       "      <td>7.2500</td>\n",
       "      <td>NaN</td>\n",
       "      <td>S</td>\n",
       "    </tr>\n",
       "    <tr>\n",
       "      <th>1</th>\n",
       "      <td>2</td>\n",
       "      <td>1</td>\n",
       "      <td>1</td>\n",
       "      <td>Cumings, Mrs. John Bradley (Florence Briggs Th...</td>\n",
       "      <td>female</td>\n",
       "      <td>38.0</td>\n",
       "      <td>1</td>\n",
       "      <td>0</td>\n",
       "      <td>PC 17599</td>\n",
       "      <td>71.2833</td>\n",
       "      <td>C85</td>\n",
       "      <td>C</td>\n",
       "    </tr>\n",
       "    <tr>\n",
       "      <th>2</th>\n",
       "      <td>3</td>\n",
       "      <td>1</td>\n",
       "      <td>3</td>\n",
       "      <td>Heikkinen, Miss. Laina</td>\n",
       "      <td>female</td>\n",
       "      <td>26.0</td>\n",
       "      <td>0</td>\n",
       "      <td>0</td>\n",
       "      <td>STON/O2. 3101282</td>\n",
       "      <td>7.9250</td>\n",
       "      <td>NaN</td>\n",
       "      <td>S</td>\n",
       "    </tr>\n",
       "    <tr>\n",
       "      <th>3</th>\n",
       "      <td>4</td>\n",
       "      <td>1</td>\n",
       "      <td>1</td>\n",
       "      <td>Futrelle, Mrs. Jacques Heath (Lily May Peel)</td>\n",
       "      <td>female</td>\n",
       "      <td>35.0</td>\n",
       "      <td>1</td>\n",
       "      <td>0</td>\n",
       "      <td>113803</td>\n",
       "      <td>53.1000</td>\n",
       "      <td>C123</td>\n",
       "      <td>S</td>\n",
       "    </tr>\n",
       "    <tr>\n",
       "      <th>4</th>\n",
       "      <td>5</td>\n",
       "      <td>0</td>\n",
       "      <td>3</td>\n",
       "      <td>Allen, Mr. William Henry</td>\n",
       "      <td>male</td>\n",
       "      <td>35.0</td>\n",
       "      <td>0</td>\n",
       "      <td>0</td>\n",
       "      <td>373450</td>\n",
       "      <td>8.0500</td>\n",
       "      <td>NaN</td>\n",
       "      <td>S</td>\n",
       "    </tr>\n",
       "    <tr>\n",
       "      <th>...</th>\n",
       "      <td>...</td>\n",
       "      <td>...</td>\n",
       "      <td>...</td>\n",
       "      <td>...</td>\n",
       "      <td>...</td>\n",
       "      <td>...</td>\n",
       "      <td>...</td>\n",
       "      <td>...</td>\n",
       "      <td>...</td>\n",
       "      <td>...</td>\n",
       "      <td>...</td>\n",
       "      <td>...</td>\n",
       "    </tr>\n",
       "    <tr>\n",
       "      <th>886</th>\n",
       "      <td>887</td>\n",
       "      <td>0</td>\n",
       "      <td>2</td>\n",
       "      <td>Montvila, Rev. Juozas</td>\n",
       "      <td>male</td>\n",
       "      <td>27.0</td>\n",
       "      <td>0</td>\n",
       "      <td>0</td>\n",
       "      <td>211536</td>\n",
       "      <td>13.0000</td>\n",
       "      <td>NaN</td>\n",
       "      <td>S</td>\n",
       "    </tr>\n",
       "    <tr>\n",
       "      <th>887</th>\n",
       "      <td>888</td>\n",
       "      <td>1</td>\n",
       "      <td>1</td>\n",
       "      <td>Graham, Miss. Margaret Edith</td>\n",
       "      <td>female</td>\n",
       "      <td>19.0</td>\n",
       "      <td>0</td>\n",
       "      <td>0</td>\n",
       "      <td>112053</td>\n",
       "      <td>30.0000</td>\n",
       "      <td>B42</td>\n",
       "      <td>S</td>\n",
       "    </tr>\n",
       "    <tr>\n",
       "      <th>888</th>\n",
       "      <td>889</td>\n",
       "      <td>0</td>\n",
       "      <td>3</td>\n",
       "      <td>Johnston, Miss. Catherine Helen \"Carrie\"</td>\n",
       "      <td>female</td>\n",
       "      <td>NaN</td>\n",
       "      <td>1</td>\n",
       "      <td>2</td>\n",
       "      <td>W./C. 6607</td>\n",
       "      <td>23.4500</td>\n",
       "      <td>NaN</td>\n",
       "      <td>S</td>\n",
       "    </tr>\n",
       "    <tr>\n",
       "      <th>889</th>\n",
       "      <td>890</td>\n",
       "      <td>1</td>\n",
       "      <td>1</td>\n",
       "      <td>Behr, Mr. Karl Howell</td>\n",
       "      <td>male</td>\n",
       "      <td>26.0</td>\n",
       "      <td>0</td>\n",
       "      <td>0</td>\n",
       "      <td>111369</td>\n",
       "      <td>30.0000</td>\n",
       "      <td>C148</td>\n",
       "      <td>C</td>\n",
       "    </tr>\n",
       "    <tr>\n",
       "      <th>890</th>\n",
       "      <td>891</td>\n",
       "      <td>0</td>\n",
       "      <td>3</td>\n",
       "      <td>Dooley, Mr. Patrick</td>\n",
       "      <td>male</td>\n",
       "      <td>32.0</td>\n",
       "      <td>0</td>\n",
       "      <td>0</td>\n",
       "      <td>370376</td>\n",
       "      <td>7.7500</td>\n",
       "      <td>NaN</td>\n",
       "      <td>Q</td>\n",
       "    </tr>\n",
       "  </tbody>\n",
       "</table>\n",
       "<p>891 rows × 12 columns</p>\n",
       "</div>"
      ],
      "text/plain": [
       "     PassengerId  Survived  Pclass  \\\n",
       "0              1         0       3   \n",
       "1              2         1       1   \n",
       "2              3         1       3   \n",
       "3              4         1       1   \n",
       "4              5         0       3   \n",
       "..           ...       ...     ...   \n",
       "886          887         0       2   \n",
       "887          888         1       1   \n",
       "888          889         0       3   \n",
       "889          890         1       1   \n",
       "890          891         0       3   \n",
       "\n",
       "                                                  Name     Sex   Age  SibSp  \\\n",
       "0                              Braund, Mr. Owen Harris    male  22.0      1   \n",
       "1    Cumings, Mrs. John Bradley (Florence Briggs Th...  female  38.0      1   \n",
       "2                               Heikkinen, Miss. Laina  female  26.0      0   \n",
       "3         Futrelle, Mrs. Jacques Heath (Lily May Peel)  female  35.0      1   \n",
       "4                             Allen, Mr. William Henry    male  35.0      0   \n",
       "..                                                 ...     ...   ...    ...   \n",
       "886                              Montvila, Rev. Juozas    male  27.0      0   \n",
       "887                       Graham, Miss. Margaret Edith  female  19.0      0   \n",
       "888           Johnston, Miss. Catherine Helen \"Carrie\"  female   NaN      1   \n",
       "889                              Behr, Mr. Karl Howell    male  26.0      0   \n",
       "890                                Dooley, Mr. Patrick    male  32.0      0   \n",
       "\n",
       "     Parch            Ticket     Fare Cabin Embarked  \n",
       "0        0         A/5 21171   7.2500   NaN        S  \n",
       "1        0          PC 17599  71.2833   C85        C  \n",
       "2        0  STON/O2. 3101282   7.9250   NaN        S  \n",
       "3        0            113803  53.1000  C123        S  \n",
       "4        0            373450   8.0500   NaN        S  \n",
       "..     ...               ...      ...   ...      ...  \n",
       "886      0            211536  13.0000   NaN        S  \n",
       "887      0            112053  30.0000   B42        S  \n",
       "888      2        W./C. 6607  23.4500   NaN        S  \n",
       "889      0            111369  30.0000  C148        C  \n",
       "890      0            370376   7.7500   NaN        Q  \n",
       "\n",
       "[891 rows x 12 columns]"
      ]
     },
     "metadata": {},
     "output_type": "display_data"
    }
   ],
   "source": [
    "data = pd.DataFrame(pd.read_csv('INPUT/train.csv'))\n",
    "display(data)"
   ]
  },
  {
   "cell_type": "markdown",
   "metadata": {},
   "source": [
    "## Calculate Counts"
   ]
  },
  {
   "cell_type": "markdown",
   "metadata": {},
   "source": [
    "Calculate joint counts for each {Survived_i, Age_j}, i = {Yes, No}, j = {_12, _Teen, _Young, _Other}:"
   ]
  },
  {
   "cell_type": "code",
   "execution_count": 3,
   "metadata": {},
   "outputs": [
    {
     "name": "stdout",
     "output_type": "stream",
     "text": [
      "[[33, 39, 87, 124], [29, 56, 160, 179]]\n"
     ]
    }
   ],
   "source": [
    "#survived and age lists\n",
    "survived = [1,0]\n",
    "age = {1:data.loc[((data['Age'] >= 1) & (data['Age'] < 13)), 'Survived'],\n",
    "       2:data.loc[((data['Age'] >= 13) & (data['Age'] < 20)), 'Survived'],\n",
    "       3:data.loc[((data['Age'] >= 20) & (data['Age'] < 31)), 'Survived'],\n",
    "       4:data.loc[(data['Age'] >= 31), 'Survived']}\n",
    "\n",
    "#list comprehension\n",
    "joint_counts = [[((age[j] == i).sum()) for j in age.keys()] for i in survived]\n",
    "print(joint_counts)"
   ]
  },
  {
   "cell_type": "markdown",
   "metadata": {},
   "source": [
    "Calculate marginal counts for survive categories:"
   ]
  },
  {
   "cell_type": "code",
   "execution_count": 4,
   "metadata": {},
   "outputs": [
    {
     "name": "stdout",
     "output_type": "stream",
     "text": [
      "Survived: 283 | Not Survived: 424\n"
     ]
    }
   ],
   "source": [
    "survived_marginal_counts = np.sum(joint_counts, axis = 1)\n",
    "survived_total = survived_marginal_counts[0]\n",
    "nSurvived_total = survived_marginal_counts[1]\n",
    "\n",
    "print(\"Survived:\", survived_total, \"| Not Survived:\", nSurvived_total)"
   ]
  },
  {
   "cell_type": "markdown",
   "metadata": {},
   "source": [
    "Calculate marginal counts for age categories:"
   ]
  },
  {
   "cell_type": "code",
   "execution_count": 5,
   "metadata": {},
   "outputs": [
    {
     "name": "stdout",
     "output_type": "stream",
     "text": [
      "Ages [1,13): 62 | Ages [13, 20): 95 | Ages [20, 31): 247 | Ages >= 31: 303\n"
     ]
    }
   ],
   "source": [
    "age_marginal_counts = np.sum(joint_counts, axis = 0)\n",
    "Age_12_total = age_marginal_counts[0]\n",
    "Age_Teen_total = age_marginal_counts[1]\n",
    "Age_Young_total = age_marginal_counts[2]\n",
    "Age_Other_total = age_marginal_counts[3]\n",
    "\n",
    "print(\"Ages [1,13):\", Age_12_total, \n",
    "      \"| Ages [13, 20):\", Age_Teen_total, \n",
    "      \"| Ages [20, 31):\", Age_Young_total, \n",
    "      \"| Ages >= 31:\", Age_Other_total)"
   ]
  },
  {
   "cell_type": "markdown",
   "metadata": {},
   "source": [
    "Calculate total count of samples:"
   ]
  },
  {
   "cell_type": "code",
   "execution_count": 6,
   "metadata": {},
   "outputs": [
    {
     "name": "stdout",
     "output_type": "stream",
     "text": [
      "707\n"
     ]
    }
   ],
   "source": [
    "Total = survived_total + nSurvived_total\n",
    "print(Total)"
   ]
  },
  {
   "cell_type": "markdown",
   "metadata": {
    "collapsed": true
   },
   "source": [
    "Store all of the counts calculated above into the data frame \"Count\"<br>\n",
    ".    Column headers: Age categories and TOTAL<br>\n",
    ".    Row headers: survive categories, TOTAL<br>\n",
    "Print the object Count's content:"
   ]
  },
  {
   "cell_type": "code",
   "execution_count": 7,
   "metadata": {},
   "outputs": [
    {
     "data": {
      "text/html": [
       "<div>\n",
       "<style scoped>\n",
       "    .dataframe tbody tr th:only-of-type {\n",
       "        vertical-align: middle;\n",
       "    }\n",
       "\n",
       "    .dataframe tbody tr th {\n",
       "        vertical-align: top;\n",
       "    }\n",
       "\n",
       "    .dataframe thead th {\n",
       "        text-align: right;\n",
       "    }\n",
       "</style>\n",
       "<table border=\"1\" class=\"dataframe\">\n",
       "  <thead>\n",
       "    <tr style=\"text-align: right;\">\n",
       "      <th></th>\n",
       "      <th>Age_12</th>\n",
       "      <th>Age_Teen</th>\n",
       "      <th>Age_Young</th>\n",
       "      <th>Age_Other</th>\n",
       "      <th>TOTAL</th>\n",
       "    </tr>\n",
       "  </thead>\n",
       "  <tbody>\n",
       "    <tr>\n",
       "      <th>Survived_Yes</th>\n",
       "      <td>33</td>\n",
       "      <td>39</td>\n",
       "      <td>87</td>\n",
       "      <td>124</td>\n",
       "      <td>283</td>\n",
       "    </tr>\n",
       "    <tr>\n",
       "      <th>Survived_No</th>\n",
       "      <td>29</td>\n",
       "      <td>56</td>\n",
       "      <td>160</td>\n",
       "      <td>179</td>\n",
       "      <td>424</td>\n",
       "    </tr>\n",
       "    <tr>\n",
       "      <th>TOTAL</th>\n",
       "      <td>62</td>\n",
       "      <td>95</td>\n",
       "      <td>247</td>\n",
       "      <td>303</td>\n",
       "      <td>707</td>\n",
       "    </tr>\n",
       "  </tbody>\n",
       "</table>\n",
       "</div>"
      ],
      "text/plain": [
       "              Age_12  Age_Teen  Age_Young  Age_Other  TOTAL\n",
       "Survived_Yes      33        39         87        124    283\n",
       "Survived_No       29        56        160        179    424\n",
       "TOTAL             62        95        247        303    707"
      ]
     },
     "metadata": {},
     "output_type": "display_data"
    }
   ],
   "source": [
    "#setting headers\n",
    "c_headers = ['Age_12', 'Age_Teen', 'Age_Young', 'Age_Other']\n",
    "c_rows = ['Survived_Yes', 'Survived_No', 'TOTAL']\n",
    "\n",
    "#adding total row\n",
    "joint_counts.append([Age_12_total, Age_Teen_total, Age_Young_total, Age_Other_total])\n",
    "\n",
    "Count = pd.DataFrame(data = joint_counts, columns = c_headers, index = c_rows)\n",
    "\n",
    "#adding total column\n",
    "Count['TOTAL'] = [survived_total, nSurvived_total, Total]\n",
    "\n",
    "display(Count)"
   ]
  },
  {
   "cell_type": "markdown",
   "metadata": {},
   "source": [
    "Save Counts into the text file \"Count.csv\" under the folder \"OUTPUT\".<br>\n",
    ".    Column headers: Age categories and TOTAL<br>\n",
    ".    Row headers: survive categories, TOTAL:"
   ]
  },
  {
   "cell_type": "code",
   "execution_count": 8,
   "metadata": {},
   "outputs": [],
   "source": [
    "Count.to_csv('OUTPUT/Count.csv')"
   ]
  },
  {
   "cell_type": "markdown",
   "metadata": {},
   "source": [
    "## Calculate Probabilities"
   ]
  },
  {
   "cell_type": "markdown",
   "metadata": {},
   "source": [
    "Generate the Probability Table T2- P() as described. Store into the data frame object \"P\". Print the object's content:"
   ]
  },
  {
   "cell_type": "code",
   "execution_count": 9,
   "metadata": {},
   "outputs": [
    {
     "data": {
      "text/html": [
       "<div>\n",
       "<style scoped>\n",
       "    .dataframe tbody tr th:only-of-type {\n",
       "        vertical-align: middle;\n",
       "    }\n",
       "\n",
       "    .dataframe tbody tr th {\n",
       "        vertical-align: top;\n",
       "    }\n",
       "\n",
       "    .dataframe thead th {\n",
       "        text-align: right;\n",
       "    }\n",
       "</style>\n",
       "<table border=\"1\" class=\"dataframe\">\n",
       "  <thead>\n",
       "    <tr style=\"text-align: right;\">\n",
       "      <th></th>\n",
       "      <th>Age_12</th>\n",
       "      <th>Age_Teen</th>\n",
       "      <th>Age_Young</th>\n",
       "      <th>Age_Other</th>\n",
       "      <th>TOTAL</th>\n",
       "    </tr>\n",
       "  </thead>\n",
       "  <tbody>\n",
       "    <tr>\n",
       "      <th>Survived_Yes</th>\n",
       "      <td>0.046676</td>\n",
       "      <td>0.055163</td>\n",
       "      <td>0.123055</td>\n",
       "      <td>0.175389</td>\n",
       "      <td>0.400283</td>\n",
       "    </tr>\n",
       "    <tr>\n",
       "      <th>Survived_No</th>\n",
       "      <td>0.041018</td>\n",
       "      <td>0.079208</td>\n",
       "      <td>0.226308</td>\n",
       "      <td>0.253182</td>\n",
       "      <td>0.599717</td>\n",
       "    </tr>\n",
       "    <tr>\n",
       "      <th>TOTAL</th>\n",
       "      <td>0.087694</td>\n",
       "      <td>0.134371</td>\n",
       "      <td>0.349364</td>\n",
       "      <td>0.428571</td>\n",
       "      <td>1.000000</td>\n",
       "    </tr>\n",
       "  </tbody>\n",
       "</table>\n",
       "</div>"
      ],
      "text/plain": [
       "                Age_12  Age_Teen  Age_Young  Age_Other     TOTAL\n",
       "Survived_Yes  0.046676  0.055163   0.123055   0.175389  0.400283\n",
       "Survived_No   0.041018  0.079208   0.226308   0.253182  0.599717\n",
       "TOTAL         0.087694  0.134371   0.349364   0.428571  1.000000"
      ]
     },
     "metadata": {},
     "output_type": "display_data"
    }
   ],
   "source": [
    "P = Count / Count.loc[\"TOTAL\", \"TOTAL\"]\n",
    "display(P)"
   ]
  },
  {
   "cell_type": "markdown",
   "metadata": {},
   "source": [
    "Generate the Probability Table T3_1- P(Survive | Age) as described. Store into the data frame object \"P_SgA\". Print the object's content:"
   ]
  },
  {
   "cell_type": "code",
   "execution_count": 10,
   "metadata": {},
   "outputs": [
    {
     "data": {
      "text/html": [
       "<div>\n",
       "<style scoped>\n",
       "    .dataframe tbody tr th:only-of-type {\n",
       "        vertical-align: middle;\n",
       "    }\n",
       "\n",
       "    .dataframe tbody tr th {\n",
       "        vertical-align: top;\n",
       "    }\n",
       "\n",
       "    .dataframe thead th {\n",
       "        text-align: right;\n",
       "    }\n",
       "</style>\n",
       "<table border=\"1\" class=\"dataframe\">\n",
       "  <thead>\n",
       "    <tr style=\"text-align: right;\">\n",
       "      <th></th>\n",
       "      <th>Age_12</th>\n",
       "      <th>Age_Teen</th>\n",
       "      <th>Age_Young</th>\n",
       "      <th>Age_Other</th>\n",
       "    </tr>\n",
       "  </thead>\n",
       "  <tbody>\n",
       "    <tr>\n",
       "      <th>Survived_Yes</th>\n",
       "      <td>0.532258</td>\n",
       "      <td>0.410526</td>\n",
       "      <td>0.352227</td>\n",
       "      <td>0.409241</td>\n",
       "    </tr>\n",
       "    <tr>\n",
       "      <th>Survived_No</th>\n",
       "      <td>0.467742</td>\n",
       "      <td>0.589474</td>\n",
       "      <td>0.647773</td>\n",
       "      <td>0.590759</td>\n",
       "    </tr>\n",
       "    <tr>\n",
       "      <th>TOTAL</th>\n",
       "      <td>1.000000</td>\n",
       "      <td>1.000000</td>\n",
       "      <td>1.000000</td>\n",
       "      <td>1.000000</td>\n",
       "    </tr>\n",
       "  </tbody>\n",
       "</table>\n",
       "</div>"
      ],
      "text/plain": [
       "                Age_12  Age_Teen  Age_Young  Age_Other\n",
       "Survived_Yes  0.532258  0.410526   0.352227   0.409241\n",
       "Survived_No   0.467742  0.589474   0.647773   0.590759\n",
       "TOTAL         1.000000  1.000000   1.000000   1.000000"
      ]
     },
     "metadata": {},
     "output_type": "display_data"
    }
   ],
   "source": [
    "P_sr_row = pd.Series(P.iloc[2])\n",
    "P_SgA = P.div(P_sr_row).drop(\"TOTAL\", axis = 1)\n",
    "display(P_SgA)"
   ]
  },
  {
   "cell_type": "markdown",
   "metadata": {},
   "source": [
    "Generate the Probability Table T3_2- P(Survive | Age) P(Age) as described. Store into the data frame object \"P_SgA_A\". Print the object's content:"
   ]
  },
  {
   "cell_type": "code",
   "execution_count": 11,
   "metadata": {},
   "outputs": [
    {
     "data": {
      "text/html": [
       "<div>\n",
       "<style scoped>\n",
       "    .dataframe tbody tr th:only-of-type {\n",
       "        vertical-align: middle;\n",
       "    }\n",
       "\n",
       "    .dataframe tbody tr th {\n",
       "        vertical-align: top;\n",
       "    }\n",
       "\n",
       "    .dataframe thead th {\n",
       "        text-align: right;\n",
       "    }\n",
       "</style>\n",
       "<table border=\"1\" class=\"dataframe\">\n",
       "  <thead>\n",
       "    <tr style=\"text-align: right;\">\n",
       "      <th></th>\n",
       "      <th>Age_12</th>\n",
       "      <th>Age_Other</th>\n",
       "      <th>Age_Teen</th>\n",
       "      <th>Age_Young</th>\n",
       "    </tr>\n",
       "  </thead>\n",
       "  <tbody>\n",
       "    <tr>\n",
       "      <th>Survived_Yes</th>\n",
       "      <td>0.046676</td>\n",
       "      <td>0.175389</td>\n",
       "      <td>0.055163</td>\n",
       "      <td>0.123055</td>\n",
       "    </tr>\n",
       "    <tr>\n",
       "      <th>Survived_No</th>\n",
       "      <td>0.041018</td>\n",
       "      <td>0.253182</td>\n",
       "      <td>0.079208</td>\n",
       "      <td>0.226308</td>\n",
       "    </tr>\n",
       "    <tr>\n",
       "      <th>TOTAL</th>\n",
       "      <td>0.087694</td>\n",
       "      <td>0.428571</td>\n",
       "      <td>0.134371</td>\n",
       "      <td>0.349364</td>\n",
       "    </tr>\n",
       "  </tbody>\n",
       "</table>\n",
       "</div>"
      ],
      "text/plain": [
       "                Age_12  Age_Other  Age_Teen  Age_Young\n",
       "Survived_Yes  0.046676   0.175389  0.055163   0.123055\n",
       "Survived_No   0.041018   0.253182  0.079208   0.226308\n",
       "TOTAL         0.087694   0.428571  0.134371   0.349364"
      ]
     },
     "metadata": {},
     "output_type": "display_data"
    }
   ],
   "source": [
    "P_SgA_A = P_SgA.mul(P_sr_row).drop(\"TOTAL\", axis = 1)\n",
    "display(P_SgA_A)"
   ]
  },
  {
   "cell_type": "markdown",
   "metadata": {},
   "source": [
    "Generate the Probability Table T4_1- P(Age | Survive) as described. Store into the data frame object \"P_AgS\". Print the object's content:"
   ]
  },
  {
   "cell_type": "code",
   "execution_count": 31,
   "metadata": {},
   "outputs": [
    {
     "data": {
      "text/html": [
       "<div>\n",
       "<style scoped>\n",
       "    .dataframe tbody tr th:only-of-type {\n",
       "        vertical-align: middle;\n",
       "    }\n",
       "\n",
       "    .dataframe tbody tr th {\n",
       "        vertical-align: top;\n",
       "    }\n",
       "\n",
       "    .dataframe thead th {\n",
       "        text-align: right;\n",
       "    }\n",
       "</style>\n",
       "<table border=\"1\" class=\"dataframe\">\n",
       "  <thead>\n",
       "    <tr style=\"text-align: right;\">\n",
       "      <th></th>\n",
       "      <th>Age_12</th>\n",
       "      <th>Age_Teen</th>\n",
       "      <th>Age_Young</th>\n",
       "      <th>Age_Other</th>\n",
       "      <th>TOTAL</th>\n",
       "    </tr>\n",
       "  </thead>\n",
       "  <tbody>\n",
       "    <tr>\n",
       "      <th>Survived_Yes</th>\n",
       "      <td>0.116608</td>\n",
       "      <td>0.137809</td>\n",
       "      <td>0.307420</td>\n",
       "      <td>0.438163</td>\n",
       "      <td>1.0</td>\n",
       "    </tr>\n",
       "    <tr>\n",
       "      <th>Survived_No</th>\n",
       "      <td>0.068396</td>\n",
       "      <td>0.132075</td>\n",
       "      <td>0.377358</td>\n",
       "      <td>0.422170</td>\n",
       "      <td>1.0</td>\n",
       "    </tr>\n",
       "  </tbody>\n",
       "</table>\n",
       "</div>"
      ],
      "text/plain": [
       "                Age_12  Age_Teen  Age_Young  Age_Other  TOTAL\n",
       "Survived_Yes  0.116608  0.137809   0.307420   0.438163    1.0\n",
       "Survived_No   0.068396  0.132075   0.377358   0.422170    1.0"
      ]
     },
     "metadata": {},
     "output_type": "display_data"
    }
   ],
   "source": [
    "P_sr_columns = pd.Series(P.iloc[:,len(Count.columns) - 1])\n",
    "P_AgS = P.div(P_sr_columns, axis = 'index').drop(\"TOTAL\", axis = 0)\n",
    "display(P_AgS)"
   ]
  },
  {
   "cell_type": "markdown",
   "metadata": {},
   "source": [
    "Generate the Probability Table T4_2- P(Age | Survive) P(Survive) as described. Store into the data frame object \"P_AgS_S\". Print the object's content:"
   ]
  },
  {
   "cell_type": "code",
   "execution_count": 32,
   "metadata": {},
   "outputs": [
    {
     "data": {
      "text/html": [
       "<div>\n",
       "<style scoped>\n",
       "    .dataframe tbody tr th:only-of-type {\n",
       "        vertical-align: middle;\n",
       "    }\n",
       "\n",
       "    .dataframe tbody tr th {\n",
       "        vertical-align: top;\n",
       "    }\n",
       "\n",
       "    .dataframe thead th {\n",
       "        text-align: right;\n",
       "    }\n",
       "</style>\n",
       "<table border=\"1\" class=\"dataframe\">\n",
       "  <thead>\n",
       "    <tr style=\"text-align: right;\">\n",
       "      <th></th>\n",
       "      <th>Age_12</th>\n",
       "      <th>Age_Teen</th>\n",
       "      <th>Age_Young</th>\n",
       "      <th>Age_Other</th>\n",
       "      <th>TOTAL</th>\n",
       "    </tr>\n",
       "  </thead>\n",
       "  <tbody>\n",
       "    <tr>\n",
       "      <th>Survived_No</th>\n",
       "      <td>0.041018</td>\n",
       "      <td>0.079208</td>\n",
       "      <td>0.226308</td>\n",
       "      <td>0.253182</td>\n",
       "      <td>0.599717</td>\n",
       "    </tr>\n",
       "    <tr>\n",
       "      <th>Survived_Yes</th>\n",
       "      <td>0.046676</td>\n",
       "      <td>0.055163</td>\n",
       "      <td>0.123055</td>\n",
       "      <td>0.175389</td>\n",
       "      <td>0.400283</td>\n",
       "    </tr>\n",
       "  </tbody>\n",
       "</table>\n",
       "</div>"
      ],
      "text/plain": [
       "                Age_12  Age_Teen  Age_Young  Age_Other     TOTAL\n",
       "Survived_No   0.041018  0.079208   0.226308   0.253182  0.599717\n",
       "Survived_Yes  0.046676  0.055163   0.123055   0.175389  0.400283"
      ]
     },
     "metadata": {},
     "output_type": "display_data"
    }
   ],
   "source": [
    "P_AgS_S = P_AgS.mul(P_sr_columns, axis = 'index').drop(\"TOTAL\", axis = 0)\n",
    "display(P_AgS_S)"
   ]
  },
  {
   "cell_type": "markdown",
   "metadata": {
    "collapsed": true
   },
   "source": [
    "## Compare"
   ]
  },
  {
   "cell_type": "markdown",
   "metadata": {},
   "source": [
    "Compare the row TOTAL of T3_1- P(Survive | Age) with the row TOTAL of T2- P(). Explain:"
   ]
  },
  {
   "cell_type": "markdown",
   "metadata": {},
   "source": [
    "T3_1 P(Surive | Age) represents the probability that you survive given you are a certain age, so the TOTAL row is all 1's since it is assumed you are that age, but the TOTAL row of T2 P() represents the probability of just being a certain age so it differs in values from cell to cell. "
   ]
  },
  {
   "cell_type": "markdown",
   "metadata": {},
   "source": [
    "Compare the row TOTAL of T3_2- P(Survive | Age) P(Age) with the row TOTAL of T2- P(). Explain:"
   ]
  },
  {
   "cell_type": "markdown",
   "metadata": {},
   "source": [
    "The TOTAL row of T3_2 and T2 are the same since they both represent the probability of being a certain age and are not dependent on survival."
   ]
  },
  {
   "cell_type": "markdown",
   "metadata": {},
   "source": [
    "Compare the column TOTAL of T4_1- P(Age | Survive) with the column TOTAL of T2- P(). Explain:"
   ]
  },
  {
   "cell_type": "markdown",
   "metadata": {},
   "source": [
    "T4_1 P(Age | Survive) represents the probability that you are a certain age given your survival, so the the TOTAL column is all 1's since it is assumed you survived / didn't survive, but the TOTAL column of T2 P() represents the probability of just surviving so it differs in values. "
   ]
  },
  {
   "cell_type": "markdown",
   "metadata": {},
   "source": [
    "Compare the column TOTAL of T4_2- P(Age | Survive) P(Survive) with the column TOTAL of T2- P(). Explain:"
   ]
  },
  {
   "cell_type": "markdown",
   "metadata": {},
   "source": [
    "The TOTAL column of T4_2 and T2 are the same since they both represent the probability of surviving and are not dependent on a certain age. "
   ]
  },
  {
   "cell_type": "markdown",
   "metadata": {
    "collapsed": true
   },
   "source": [
    "## <center> REFERENCES </center>\n",
    "List resources (book, internet page, etc.) that you used to complete this challenge."
   ]
  },
  {
   "cell_type": "markdown",
   "metadata": {},
   "source": [
    "https://pandas.pydata.org/docs/reference/api/pandas.DataFrame.divide.html\n",
    "https://stackoverflow.com/questions/40200070/what-does-axis-0-do-in-numpys-sum-function\n",
    "https://pandas.pydata.org/docs/reference/api/pandas.DataFrame.html\n",
    "https://www.geeksforgeeks.org/different-ways-to-iterate-over-rows-in-pandas-dataframe/\n",
    "https://www.geeksforgeeks.org/loop-or-iterate-over-all-or-certain-columns-of-a-dataframe-in-python-pandas/\n",
    "https://note.nkmk.me/en/python-pandas-len-shape-size/\n",
    "https://en.wikipedia.org/wiki/Chain_rule_(probability)\n",
    "https://www.investopedia.com/terms/c/conditional_probability.asp"
   ]
  }
 ],
 "metadata": {
  "kernelspec": {
   "display_name": "Python 3 (ipykernel)",
   "language": "python",
   "name": "python3"
  },
  "language_info": {
   "codemirror_mode": {
    "name": "ipython",
    "version": 3
   },
   "file_extension": ".py",
   "mimetype": "text/x-python",
   "name": "python",
   "nbconvert_exporter": "python",
   "pygments_lexer": "ipython3",
   "version": "3.9.12"
  }
 },
 "nbformat": 4,
 "nbformat_minor": 2
}
