{
 "cells": [
  {
   "cell_type": "markdown",
   "metadata": {},
   "source": [
    "# Challenge 2 Python Programming"
   ]
  },
  {
   "cell_type": "markdown",
   "metadata": {},
   "source": [
    "<p>Team Name: Parasyte\n",
    "<p>Student Name: Abby Ortego, Catherine Nixon\n",
    "<p>Student W#: W0716476, W0704280"
   ]
  },
  {
   "cell_type": "markdown",
   "metadata": {},
   "source": [
    "## Instructions\n",
    "Use generic coding style unless hard-coded values are really necessary.<br>\n",
    "Your code must be efficient and use self-explanatory naming.<br>\n",
    "Use appropriate Python library methods for each task instead of using loops.<br>\n",
    "Run your entire code and save. Then submit this <b>saved</b> copy."
   ]
  },
  {
   "cell_type": "markdown",
   "metadata": {},
   "source": [
    "## Imports"
   ]
  },
  {
   "cell_type": "code",
   "execution_count": 1,
   "metadata": {},
   "outputs": [],
   "source": [
    "import csv\n",
    "import re"
   ]
  },
  {
   "cell_type": "markdown",
   "metadata": {},
   "source": [
    "## <center> Part I </center>"
   ]
  },
  {
   "cell_type": "markdown",
   "metadata": {},
   "source": [
    "### 1) Read  student records from the file Student.csv in INPUT and store into a dictionary \"stdRec\":"
   ]
  },
  {
   "cell_type": "code",
   "execution_count": 2,
   "metadata": {},
   "outputs": [],
   "source": [
    "file_dict = open('INPUT/Student.csv')\n",
    "stdRec = csv.DictReader(file_dict)"
   ]
  },
  {
   "cell_type": "markdown",
   "metadata": {},
   "source": [
    "### 2) Store headers into a tuple \"header\":"
   ]
  },
  {
   "cell_type": "code",
   "execution_count": 3,
   "metadata": {},
   "outputs": [],
   "source": [
    "header = tuple(stdRec.fieldnames)"
   ]
  },
  {
   "cell_type": "markdown",
   "metadata": {},
   "source": [
    "### 3) Store data into a list \"data\":"
   ]
  },
  {
   "cell_type": "code",
   "execution_count": 4,
   "metadata": {},
   "outputs": [],
   "source": [
    "with open('INPUT/Student.csv') as file_data:\n",
    "    file_data.seek(0)\n",
    "    file_data.readline()\n",
    "    read = file_data.read()\n",
    "    data = list(re.split(\",|\\n\", read))\n",
    "#"
   ]
  },
  {
   "cell_type": "markdown",
   "metadata": {},
   "source": [
    "### 4) Ask user to enter a student number to search \"data\" for the W# and return all his/her grades for the classes taken:"
   ]
  },
  {
   "cell_type": "code",
   "execution_count": 5,
   "metadata": {},
   "outputs": [
    {
     "name": "stdout",
     "output_type": "stream",
     "text": [
      "Enter Student ID whose grades you would like to see: 0716476\n",
      "Math223 : 86 and 94\n",
      "Cmps340 : 72 and 89\n"
     ]
    }
   ],
   "source": [
    "stdId = str(input(\"Enter Student ID whose grades you would like to see: \"))\n",
    "grade = []\n",
    "\n",
    "if stdId in data: \n",
    "    for line in stdRec:\n",
    "        if line['STUDENT ID'] == stdId:\n",
    "            print(line['COURSE ID'], \":\", line['MIDTERM'], \"and\", line['FINAL'])\n",
    "            grade.extend([line['MIDTERM'], line['FINAL']])\n",
    "else:\n",
    "    print(\"Data cannot be found for \", stdId)\n",
    "file_dict.close()"
   ]
  },
  {
   "cell_type": "markdown",
   "metadata": {},
   "source": [
    "### 5) Write the search result into a file with a file name which is consisted of W# and extention \"csv\". The file will be stored into the folder \"RESULT\". The first line of the file will have headers:"
   ]
  },
  {
   "cell_type": "code",
   "execution_count": 6,
   "metadata": {},
   "outputs": [],
   "source": [
    "with open('RESULT/W#.csv', 'w') as file_result:\n",
    "    write = csv.writer(file_result)\n",
    "    write.writerow([\"W#\",\"Grades\"])\n",
    "    newData = [stdId]\n",
    "    for i in range(len(grade)):\n",
    "        newData.append(grade[i])\n",
    "    write.writerow(newData)"
   ]
  },
  {
   "cell_type": "markdown",
   "metadata": {},
   "source": [
    "## <center> Part II </center>"
   ]
  },
  {
   "cell_type": "markdown",
   "metadata": {},
   "source": [
    "### 1) Ask user to enter two strings \"reference\" and \"pattern\":"
   ]
  },
  {
   "cell_type": "code",
   "execution_count": 7,
   "metadata": {},
   "outputs": [
    {
     "name": "stdout",
     "output_type": "stream",
     "text": [
      "\n",
      "Please enter the following two strings as prompted.\n",
      "\n",
      "reference: \n",
      "similar\n",
      "\n",
      "pattern: \n",
      "amira\n"
     ]
    }
   ],
   "source": [
    "print(\"\\nPlease enter the following two strings as prompted.\")\n",
    "print(\"\\nreference: \")\n",
    "reference = input()\n",
    "print(\"\\npattern: \")\n",
    "pattern = input()"
   ]
  },
  {
   "cell_type": "markdown",
   "metadata": {},
   "source": [
    "### 2) Check if the pattern string is in the reference string. Display the result together with the input data:"
   ]
  },
  {
   "cell_type": "code",
   "execution_count": 8,
   "metadata": {},
   "outputs": [
    {
     "name": "stdout",
     "output_type": "stream",
     "text": [
      "The pattern amira is not in the reference similar\n"
     ]
    }
   ],
   "source": [
    "if pattern in reference:\n",
    "    print(\"The pattern\", pattern, \" is in the reference\", reference, \"!\")\n",
    "else:\n",
    "    print(\"The pattern\", pattern, \"is not in the reference\", reference)"
   ]
  },
  {
   "cell_type": "markdown",
   "metadata": {},
   "source": [
    "### 3) Split characters of both strings into the sets \"sRef\" and \"sPat\":"
   ]
  },
  {
   "cell_type": "code",
   "execution_count": 9,
   "metadata": {},
   "outputs": [],
   "source": [
    "sRef = set(reference)\n",
    "sPat = set(pattern)"
   ]
  },
  {
   "cell_type": "markdown",
   "metadata": {},
   "source": [
    "### 4) Check if sPat is a subset of sRef. Display the result together with the input data:"
   ]
  },
  {
   "cell_type": "code",
   "execution_count": 10,
   "metadata": {},
   "outputs": [
    {
     "name": "stdout",
     "output_type": "stream",
     "text": [
      "The pattern amira is a subset of the reference similar !\n"
     ]
    }
   ],
   "source": [
    "if sPat.issubset(sRef):\n",
    "    print(\"The pattern\", pattern, \"is a subset of the reference\", reference, \"!\")\n",
    "else:\n",
    "    print(\"The pattern\", pattern, \"is not a subset of the reference\", reference, \"!\")"
   ]
  },
  {
   "cell_type": "markdown",
   "metadata": {},
   "source": [
    "## <center> Part III </center>"
   ]
  },
  {
   "cell_type": "markdown",
   "metadata": {},
   "source": [
    "### 1) Write a class \"Search_Pattern\" which will accomplish the tasks listed in Part-II. In the task-1, the string pairs \"reference\" and \"pattern\" must be read from a file:"
   ]
  },
  {
   "cell_type": "code",
   "execution_count": 11,
   "metadata": {},
   "outputs": [],
   "source": [
    "class Search_Pattern:\n",
    "       \n",
    "        def __init__(self, pattern, reference):\n",
    "            #initialize reference\n",
    "            self.p = pattern\n",
    "            #initialize pattern from file\n",
    "            self.r = reference\n",
    "        #\n",
    "        \n",
    "        def checkPattern(self):\n",
    "            #check if 'pattern' is a pattern in 'reference'\n",
    "            if self.p in self.r:\n",
    "                print(\"The pattern\", self.p, \"is in the reference\", self.r)\n",
    "            else:\n",
    "                print(\"The pattern\", self.p, \"is not in the reference\", self.r)\n",
    "        #\n",
    "        \n",
    "        def checkSubset(self):\n",
    "            #create sets\n",
    "            sPat = set(self.p)\n",
    "            sRef = set(self.r)\n",
    "            \n",
    "            #check if 'pattern' is a subset of 'reference'\n",
    "            if sPat.issubset(sRef):\n",
    "                print(\"The pattern\", self.p, \"is a subset of the reference\", self.r)\n",
    "            else:\n",
    "                print(\"The pattern\", self.p, \"is not a subset of the reference\", self.r)\n",
    "        #\n",
    "            \n",
    "#"
   ]
  },
  {
   "cell_type": "markdown",
   "metadata": {},
   "source": [
    "### 2) Generate a test set of \"reference\" and \"pattern\" into a file \"Test_Data\" in INPUT. The test data must test following cases:\n",
    ">   <p>a. The pattern is in the reference.\n",
    "    <p>b. The pattern is NOT in the reference.\n",
    "    <p>c. The pattern is NOT in the reference but its items make a subset of the reference\n",
    "<h3>Test the class Search_Pattern using the test data. Display the result together with the input data:"
   ]
  },
  {
   "cell_type": "code",
   "execution_count": 12,
   "metadata": {},
   "outputs": [
    {
     "name": "stdout",
     "output_type": "stream",
     "text": [
      "The pattern therapy is in the reference hynotherapy\n",
      "The pattern therapy is a subset of the reference hynotherapy\n",
      "\n",
      "The pattern amira is not in the reference similar\n",
      "The pattern amira is a subset of the reference similar\n",
      "\n",
      "The pattern cat is not in the reference bird\n",
      "The pattern cat is not a subset of the reference bird\n",
      "\n"
     ]
    }
   ],
   "source": [
    "#Test the class 'Search_Pattern'\n",
    "with open('INPUT/Test_Data.csv') as file:\n",
    "    #read file\n",
    "    file.readline()\n",
    "    rdData = csv.reader(file)\n",
    "    \n",
    "    #loop through 'lines' in file\n",
    "    for row in rdData:\n",
    "        #create Search_Pattern object\n",
    "        search = Search_Pattern(row[0],row[1])\n",
    "        \n",
    "        #checkPattern\n",
    "        search.checkPattern()\n",
    "\n",
    "        #checkSubset\n",
    "        search.checkSubset()\n",
    "        \n",
    "        print() #readability\n",
    "#"
   ]
  }
 ],
 "metadata": {
  "kernelspec": {
   "display_name": "Python 3 (ipykernel)",
   "language": "python",
   "name": "python3"
  },
  "language_info": {
   "codemirror_mode": {
    "name": "ipython",
    "version": 3
   },
   "file_extension": ".py",
   "mimetype": "text/x-python",
   "name": "python",
   "nbconvert_exporter": "python",
   "pygments_lexer": "ipython3",
   "version": "3.9.12"
  }
 },
 "nbformat": 4,
 "nbformat_minor": 2
}
